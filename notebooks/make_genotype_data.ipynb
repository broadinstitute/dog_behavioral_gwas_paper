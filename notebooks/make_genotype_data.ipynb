{
 "cells": [
  {
   "cell_type": "code",
   "execution_count": 2,
   "id": "7a287dab",
   "metadata": {},
   "outputs": [],
   "source": [
    "import numpy as np\n",
    "import pandas as pd\n",
    "import vcf"
   ]
  },
  {
   "cell_type": "code",
   "execution_count": 3,
   "id": "37349f99",
   "metadata": {},
   "outputs": [],
   "source": [
    "vcf_file=\"/seq/vgb/bryc/data/darwins_dogs/pnas_dog_behavior_paper/DarwinsDogs_2024_target_sites_appended.vcf.gz\""
   ]
  },
  {
   "cell_type": "code",
   "execution_count": 4,
   "id": "8d078afa",
   "metadata": {},
   "outputs": [],
   "source": [
    "vcf_reader = vcf.Reader(open(vcf_file, 'rb'))"
   ]
  },
  {
   "cell_type": "code",
   "execution_count": 5,
   "id": "ab7658b4",
   "metadata": {},
   "outputs": [],
   "source": [
    "genotypes = []\n",
    "for record in vcf_reader:\n",
    "    for call in record.samples:\n",
    "        genotypes.append({\"snp\": record.CHROM + \":\" + str(record.POS), \"dog\": call.sample, \"geno\": call.data.DS})"
   ]
  },
  {
   "cell_type": "code",
   "execution_count": 6,
   "id": "48afc28c",
   "metadata": {},
   "outputs": [],
   "source": [
    "genos = pd.DataFrame(genotypes).pivot(index=\"dog\", columns=\"snp\", values=\"geno\")"
   ]
  },
  {
   "cell_type": "code",
   "execution_count": 7,
   "id": "09527757",
   "metadata": {},
   "outputs": [],
   "source": [
    "genos.to_csv(\"/seq/vgb/bryc/data/darwins_dogs/pnas_dog_behavior_paper/target_sites_genotypes_appended.csv\")"
   ]
  },
  {
   "cell_type": "code",
   "execution_count": null,
   "id": "5b9aa0e1",
   "metadata": {},
   "outputs": [],
   "source": []
  }
 ],
 "metadata": {
  "kernelspec": {
   "display_name": "prediction_env",
   "language": "python",
   "name": "prediction_env"
  },
  "language_info": {
   "codemirror_mode": {
    "name": "ipython",
    "version": 3
   },
   "file_extension": ".py",
   "mimetype": "text/x-python",
   "name": "python",
   "nbconvert_exporter": "python",
   "pygments_lexer": "ipython3",
   "version": "3.6.13"
  }
 },
 "nbformat": 4,
 "nbformat_minor": 5
}
