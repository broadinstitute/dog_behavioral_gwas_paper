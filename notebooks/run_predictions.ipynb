{
 "cells": [
  {
   "cell_type": "code",
   "execution_count": null,
   "id": "d10c70ab",
   "metadata": {},
   "outputs": [],
   "source": [
    "import pandas as pd"
   ]
  },
  {
   "cell_type": "code",
   "execution_count": null,
   "id": "964dd362",
   "metadata": {},
   "outputs": [],
   "source": [
    "import seaborn as sns\n",
    "import matplotlib.pyplot as plt\n",
    "import seaborn as sns\n"
   ]
  },
  {
   "cell_type": "code",
   "execution_count": null,
   "id": "7e309926",
   "metadata": {},
   "outputs": [],
   "source": [
    "from sklearn.linear_model import LinearRegression\n",
    "import statsmodels.api as sm\n",
    "import statsmodels.formula.api as smf\n",
    "import pandas as pd\n",
    "import scipy"
   ]
  },
  {
   "cell_type": "code",
   "execution_count": null,
   "id": "a6edc093",
   "metadata": {},
   "outputs": [],
   "source": [
    "marker_to_behavior = {\n",
    "    \"chr1:42445143\": ['2','4', '5', '6', '8', '11', '13', '108', '228',  \"factor_2\"],\n",
    "    \"chr34:18730331\": ['41', '107', '109', 'factor_8'],\n",
    "    \"chr10:8354804\": ['41', '107', '109', 'factor_8'],\n",
    "    \"chr10:8415970\": ['41', '107', '109', 'factor_8'],\n",
    "    \"chr10:8752420\": ['41', '107', '109', 'factor_8'],\n",
    "    \"chr10:8808920\": ['41', '107', '109', 'factor_8'],\n",
    "    \"chr18:20591145\": ['11', '42', '46', '167', '170', '171', '175'],\n",
    "    \"chr10:2790081\":['11', '42', '46', '167', '170', '171', '175']\n",
    "}\n",
    "marker_to_morphology = {\n",
    "    \"chr1:42445143\": ['246'],\n",
    "    \"chr34:18730331\": ['121'],\n",
    "    \"chr10:8354804\": ['125', '121'],\n",
    "    \"chr10:8415970\": ['125', '121'],\n",
    "    \"chr10:8752420\": ['125', '121'],\n",
    "    \"chr10:8808920\": ['125', '121'],\n",
    "    \"chr18:20591145\": ['121', '246'],\n",
    "    \"chr10:2790081\":['121']\n",
    "}"
   ]
  },
  {
   "cell_type": "code",
   "execution_count": null,
   "id": "c8d28ae7",
   "metadata": {},
   "outputs": [],
   "source": [
    "height_file=\"/seq/vgb/vsohrab/darwins_dogs/pnas_behavior_morphology_gwas/input_files/DarwinsArk_AgeComposed_Height_N-3277.tsv\"\n",
    "neuter_file=\"/seq/vgb/vsohrab/darwins_dogs/pnas_behavior_morphology_gwas/input_files/DarwinsArk_Sex_NeuterStatus_N-3277.tsv\"\n",
    "pheno_file=\"/seq/vgb/bryc/data/darwins_dogs/2024-09-23_cache/2024-10-15_merged_phenotype_table.csv\"\n",
    "geno_file=\"/seq/vgb/bryc/data/darwins_dogs/pnas_dog_behavior_paper/target_sites_genotypes.csv\""
   ]
  },
  {
   "cell_type": "code",
   "execution_count": null,
   "id": "332df107",
   "metadata": {},
   "outputs": [],
   "source": [
    "ph = pd.read_csv(pheno_file)\n",
    "genos = pd.read_csv(geno_file)\n",
    "height = pd.read_csv(height_file, sep = \"\\t\",header=None, names = [\"fam_id\", \"dog\", \"age\", \"height\"])\n",
    "neuter = pd.read_csv(neuter_file, sep = \"\\t\", header=None, names = [\"fam_id\", \"dog\", \"sex\", \"neuter\"])"
   ]
  },
  {
   "cell_type": "code",
   "execution_count": null,
   "id": "11fec9d0",
   "metadata": {},
   "outputs": [],
   "source": [
    "ph.columns[:20]"
   ]
  },
  {
   "cell_type": "code",
   "execution_count": null,
   "id": "25a24766",
   "metadata": {},
   "outputs": [],
   "source": [
    "merge = ph.merge(genos, left_on='id', right_on='dog')\n",
    "merge2 = merge.merge(height, left_on='id', right_on=\"dog\")"
   ]
  },
  {
   "cell_type": "code",
   "execution_count": null,
   "id": "b9bab31e",
   "metadata": {},
   "outputs": [],
   "source": [
    "merge2"
   ]
  },
  {
   "cell_type": "code",
   "execution_count": null,
   "id": "c27d56ce",
   "metadata": {},
   "outputs": [],
   "source": [
    "sns.violinplot(data=merge2, x=\"246\", y=\"chr18:20591145\")"
   ]
  },
  {
   "cell_type": "code",
   "execution_count": null,
   "id": "8eb8fc1d",
   "metadata": {},
   "outputs": [],
   "source": [
    "merge2.hist(column=[\"chr34:18730331\"], by='121')"
   ]
  },
  {
   "cell_type": "code",
   "execution_count": null,
   "id": "daa86639",
   "metadata": {},
   "outputs": [],
   "source": [
    "merge2['sex'] = merge2.sex.replace({'male': 0, 'female':1})\n",
    "merge2['Q121'] = merge2['121']"
   ]
  },
  {
   "cell_type": "code",
   "execution_count": null,
   "id": "05913fb5",
   "metadata": {},
   "outputs": [],
   "source": [
    "for snp in marker_to_morphology.keys():    \n",
    "    for pheno in marker_to_morphology[snp]:\n",
    "        # OLS is _very_ finicky about column names so we will copy ours over to \"clean\" names here\n",
    "        merge2['test_snp'] = merge2[snp]\n",
    "        merge2['phenotype'] = merge2[pheno]\n",
    "\n",
    "        full_model = smf.ols(formula='phenotype ~ height + age_y + C(sex) + C(neutered) + test_snp', data=merge2)\n",
    "        full_res = full_model.fit()\n",
    "        #print(full_res.summary())\n",
    "        full_ll = full_res.llf\n",
    "\n",
    "        reduced_model = smf.ols(formula='phenotype ~ height + age_y + C(sex) + C(neutered)', data=merge2)\n",
    "        reduced_res = reduced_model.fit()\n",
    "        #print(reduced_res.summary())\n",
    "        reduced_ll = reduced_res.llf\n",
    "\n",
    "        #calculate likelihood ratio Chi-Squared test statistic\n",
    "        LR_statistic = -2*(reduced_ll-full_ll)\n",
    "\n",
    "        #calculate p-value of test statistic using degrees of freedom\n",
    "        p_val = scipy.stats.chi2.sf(LR_statistic, 1)\n",
    "\n",
    "        # If p_value < 0.05 then reject null\n",
    "        if p_val < 0.05:\n",
    "            print(f\"*{snp} has a significant effect on phenotype {pheno}, p-value: {p_val}\")\n",
    "        else:\n",
    "            print(f\"{snp} does not have a significant effect on phenotype {pheno}, p-value: {p_val}\")"
   ]
  },
  {
   "cell_type": "code",
   "execution_count": null,
   "id": "7fe5d23b",
   "metadata": {},
   "outputs": [],
   "source": [
    "merge2.columns[30:100]"
   ]
  },
  {
   "cell_type": "code",
   "execution_count": null,
   "id": "bb01d316",
   "metadata": {},
   "outputs": [],
   "source": [
    "## Test for correlation between SNPs and breed ancestries\n",
    "ancestries = list(ph.columns[19:131])\n",
    "anc = ancestries[0]\n",
    "snp = \"chr10:8752420\"\n",
    "col_list = ancestries +  list(marker_to_morphology.keys())\n",
    "\n",
    "#print(col_list)\n",
    "snp_anc_df = merge2[['Afghan Hound', 'Airedale Terrier', 'Akita', 'Alaskan Malamute', 'Alaskan Sled Dog', 'American Cocker Spaniel', 'American Pit Bull Terrier', 'Australian Cattle Dog', 'Australian Shepherd', 'Basenji', 'Basset Hound', 'Beagle', 'Bearded Collie', 'Belgian Malinois', 'Belgian Sheepdog', 'Belgian Tervuren', 'Bernese Mountain Dog', 'Bichon Frise', 'Bloodhound', 'Border Collie', 'Border Terrier', 'Borzoi', 'Boston Terrier', 'Bouvier Des Flanders', 'Boxer', 'Brittany', 'Bull Terrier', 'Bullmastiff', 'Cairn Terrier', 'Cavalier King Charles Spaniel', 'Chesapeake Bay Retriever', 'Chihuahua', 'Chinese Crested', 'Chinook', 'Chow Chow', 'Collie', 'Dachshund', 'Dalmatian', 'Doberman Pinscher', 'English Bulldog', 'English Cocker Spaniel', 'English Setter', 'English Shepherd', 'English Springer Spaniel', 'Entlebucher Mountain Dog', 'Finnish Spitz', 'French Bulldog', 'German Shepherd Dog', 'German Shorthaired Pointer', 'Golden Retriever', 'Gordon Setter', 'Great Dane', 'Great Pyrenees', 'Greater Swiss Mountain Dog', 'Greenland Sled Dog', 'Greyhound', 'Havanese', 'Irish Setter', 'Irish Wolfhound', 'Italian Greyhound', 'Jack Russell Terrier', 'Labrador Retriever', 'Lagotti Romagnoli', 'Leonberger', 'Lhasa Apso', 'Maltese', 'Mastiff', 'Miniature Pinscher', 'Miniature Schnauzer', 'Newfoundland', 'Norfolk Terrier', 'Norwegian Elkhound', 'Norwich Terrier', 'Nova Scotia Duck Tolling Retriever', 'Old English Sheepdog', 'Papillon', 'Pekingese', 'Pembroke Welsh Corgi', 'Pomeranian', 'Poodle', 'Portuguese Water Dog', 'Pug', 'Rhodesian Ridgeback', 'Rottweiler', 'Saint Bernard', 'Saluki', 'Samoyed', 'Schipperke', 'Scottish Terrier', 'Shar Pei', 'Shetland Sheepdog', 'Shiba Inu', 'Shih Tzu', 'Siberian Husky', 'Sloughi', 'Soft Coated Wheaten Terrier', 'Staffordshire Bull Terrier', 'Standard Schnauzer', 'Tibetan Mastiff', 'Tibetan Spaniel', 'Tibetan Terrier', 'Toy Poodle', 'Village Dog (China)', 'Village Dog (Nigeria)', 'Village Dog (Vietnam)', 'Vizsla', 'Weimaraner', 'West Highland White Terrier', 'Whippet', 'Wire Fox Terrier', 'Wirehaired Pointing Griffon', 'Yorkshire Terrier', 'chr1:42445143', 'chr34:18730331', 'chr10:8354804', 'chr10:8415970', 'chr10:8752420', 'chr10:8808920', 'chr18:20591145', 'chr10:2790081']]"
   ]
  },
  {
   "cell_type": "code",
   "execution_count": null,
   "id": "5d10d43a",
   "metadata": {
    "scrolled": false
   },
   "outputs": [],
   "source": [
    "corr = snp_anc_df.corr()"
   ]
  },
  {
   "cell_type": "code",
   "execution_count": null,
   "id": "652d393c",
   "metadata": {
    "scrolled": false
   },
   "outputs": [],
   "source": [
    "snp_corrs = corr.loc[['Afghan Hound', 'Airedale Terrier', 'Akita', 'Alaskan Malamute',  'American Cocker Spaniel', 'American Pit Bull Terrier', 'Australian Cattle Dog', 'Australian Shepherd', 'Basenji', 'Basset Hound', 'Beagle', 'Bearded Collie', 'Belgian Malinois',  'Belgian Tervuren', 'Bernese Mountain Dog', 'Bichon Frise', 'Bloodhound', 'Border Collie', 'Border Terrier', 'Borzoi', 'Boston Terrier', 'Boxer', 'Brittany', 'Bull Terrier', 'Bullmastiff', 'Cairn Terrier', 'Cavalier King Charles Spaniel', 'Chesapeake Bay Retriever', 'Chihuahua', 'Chinese Crested', 'Chinook', 'Chow Chow', 'Collie', 'Dachshund', 'Dalmatian', 'Doberman Pinscher', 'English Bulldog', 'English Cocker Spaniel', 'English Setter', 'English Shepherd', 'English Springer Spaniel', 'Entlebucher Mountain Dog', 'Finnish Spitz', 'French Bulldog', 'German Shepherd Dog', 'German Shorthaired Pointer', 'Golden Retriever', 'Gordon Setter', 'Great Dane', 'Great Pyrenees', 'Greater Swiss Mountain Dog', 'Greyhound', 'Havanese', 'Irish Setter', 'Irish Wolfhound', 'Italian Greyhound', 'Jack Russell Terrier', 'Labrador Retriever',  'Leonberger', 'Lhasa Apso', 'Maltese', 'Mastiff', 'Miniature Pinscher', 'Miniature Schnauzer', 'Newfoundland', 'Norfolk Terrier', 'Norwegian Elkhound',  'Nova Scotia Duck Tolling Retriever', 'Old English Sheepdog', 'Papillon', 'Pekingese', 'Pembroke Welsh Corgi', 'Pomeranian', 'Poodle', 'Portuguese Water Dog', 'Pug', 'Rhodesian Ridgeback', 'Rottweiler', 'Saint Bernard', 'Saluki', 'Samoyed', 'Schipperke', 'Scottish Terrier', 'Shar Pei', 'Shetland Sheepdog', 'Shiba Inu', 'Shih Tzu', 'Siberian Husky',  'Soft Coated Wheaten Terrier', 'Staffordshire Bull Terrier',  'Tibetan Mastiff', 'Tibetan Spaniel', 'Tibetan Terrier', 'Toy Poodle',  'Vizsla', 'Weimaraner', 'West Highland White Terrier', 'Whippet', 'Wire Fox Terrier', 'Wirehaired Pointing Griffon', 'Yorkshire Terrier'],['chr1:42445143', 'chr34:18730331', 'chr10:8354804', 'chr10:8415970', 'chr10:8752420', 'chr10:8808920', 'chr18:20591145', 'chr10:2790081']]\n",
    "snp_corrs.style.background_gradient(cmap='coolwarm', axis=None)"
   ]
  },
  {
   "cell_type": "code",
   "execution_count": null,
   "id": "0c5524a5",
   "metadata": {},
   "outputs": [],
   "source": [
    "plt.figure(figsize=(13,30))\n",
    "sns.heatmap(snp_corrs, annot = True, cmap='coolwarm')\n",
    "plt.title(\"Correlation matrix of SNPs with dog breed estimates\")\n",
    "plt.xlabel(\"Associated SNPS\")\n",
    "plt.ylabel(\"Dog breeds\")\n",
    "plt.savefig(\"snp_correlation_with_breed.png\", dpi=300)"
   ]
  },
  {
   "cell_type": "code",
   "execution_count": null,
   "id": "2c2faece",
   "metadata": {},
   "outputs": [],
   "source": []
  }
 ],
 "metadata": {
  "kernelspec": {
   "display_name": "Python 3 (ipykernel)",
   "language": "python",
   "name": "python3"
  },
  "language_info": {
   "codemirror_mode": {
    "name": "ipython",
    "version": 3
   },
   "file_extension": ".py",
   "mimetype": "text/x-python",
   "name": "python",
   "nbconvert_exporter": "python",
   "pygments_lexer": "ipython3",
   "version": "3.9.13"
  }
 },
 "nbformat": 4,
 "nbformat_minor": 5
}
