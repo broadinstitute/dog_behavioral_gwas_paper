{
 "cells": [
  {
   "cell_type": "markdown",
   "id": "3cd07ecf",
   "metadata": {},
   "source": [
    "# Script to make a merged vcf genetic data freeze\n",
    "Kasia Bryc\n",
    "\n",
    "July 17, 2024\n",
    "\n",
    "This notebook is designed to make a file containing a list of all the vcf files for dogs\n",
    "that have been genotyped or sequenced as part of Darwin's Ark. This includes dogs genotyped on arrays (which occurred early on). The goal is to make a merge dataset that will be used for downstream GWAS analysis as part of the dog behavioral genetics PNAS paper."
   ]
  },
  {
   "cell_type": "code",
   "execution_count": null,
   "id": "426c3fd9",
   "metadata": {},
   "outputs": [],
   "source": [
    "import pandas as pd\n",
    "import os"
   ]
  },
  {
   "cell_type": "code",
   "execution_count": null,
   "id": "967d491d",
   "metadata": {},
   "outputs": [],
   "source": [
    "cache_dir = \"/seq/vgb/bryc/darwins_cats/dog_survey_analysis/data/\"\n",
    "breed_file = os.path.join(cache_dir, \"breed_data.csv\")\n",
    "breed_data = pd.read_csv(breed_file)\n",
    "barcodes = breed_data.barcode.unique().tolist()"
   ]
  },
  {
   "cell_type": "code",
   "execution_count": null,
   "id": "b0a976e6",
   "metadata": {},
   "outputs": [],
   "source": [
    "def find_vcf_locations(barcodes, \n",
    "                       directory_to_search = \"/seq/vgb/rawData/gencove\", \n",
    "                       secondary_directory = \"/seq/vgb/dd\"):\n",
    "    \"\"\" Takes a list of barcodes and returns a dict mapping each barcode to a list of the locations it is found.\"\"\"\n",
    "    barcode_to_locations = dict()\n",
    "    for i, barcode in enumerate(barcodes):\n",
    "        locations = []\n",
    "        missing = 0\n",
    "        print(f\"[{str(i)}/{len(barcodes)}] Looking for barcode: {str(barcode)}\")\n",
    "        for root, dirs, files in os.walk(directory_to_search):\n",
    "            for file in files:\n",
    "                if file.startswith(str(barcode)):\n",
    "                    if file.endswith(\".vcf.gz\"):\n",
    "                        locations.append(os.path.join(root, file))\n",
    "        barcode_to_locations[barcode] = locations\n",
    "        # If no vcf file locations are found, try the other back up directory\n",
    "        if len(locations) == 0:\n",
    "            for root, dirs, files in os.walk(secondary_directory):\n",
    "                for file in files:\n",
    "                    if file.startswith(str(barcode)):\n",
    "                        if file.endswith(\".vcf.gz\"):\n",
    "                            locations.append(os.path.join(root, file))\n",
    "        if len(locations) == 0:\n",
    "            print(f\"No location found for barcode {barcode}\")\n",
    "            missing += 1\n",
    "    print(f\"{missing}/{len(barcodes)} barcodes not found\")        \n",
    "    return barcode_to_locations"
   ]
  },
  {
   "cell_type": "code",
   "execution_count": null,
   "id": "ad9210b9",
   "metadata": {
    "scrolled": true
   },
   "outputs": [],
   "source": [
    "locations_dict = find_vcf_locations(barcodes)"
   ]
  },
  {
   "cell_type": "code",
   "execution_count": null,
   "id": "ca0c652d",
   "metadata": {},
   "outputs": [],
   "source": [
    "locations_df = pd.DataFrame(locations_dict.items(), columns=['barcode', 'locations'])"
   ]
  },
  {
   "cell_type": "code",
   "execution_count": null,
   "id": "32abda9c",
   "metadata": {},
   "outputs": [],
   "source": [
    "locations_df.to_csv(\"/seq/vgb/dd/data/2024-07-18_data_cache/2024-07-18_dd_vcf_best_search_file_locations.csv\")"
   ]
  }
 ],
 "metadata": {
  "kernelspec": {
   "display_name": "Python 3 (ipykernel)",
   "language": "python",
   "name": "python3"
  },
  "language_info": {
   "codemirror_mode": {
    "name": "ipython",
    "version": 3
   },
   "file_extension": ".py",
   "mimetype": "text/x-python",
   "name": "python",
   "nbconvert_exporter": "python",
   "pygments_lexer": "ipython3",
   "version": "3.9.13"
  }
 },
 "nbformat": 4,
 "nbformat_minor": 5
}
