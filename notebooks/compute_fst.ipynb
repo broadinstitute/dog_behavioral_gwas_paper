{
 "cells": [
  {
   "cell_type": "code",
   "execution_count": 114,
   "id": "ce14f93c",
   "metadata": {},
   "outputs": [],
   "source": [
    "import numpy as np\n",
    "import pandas as pd\n",
    "\n",
    "import allel"
   ]
  },
  {
   "cell_type": "code",
   "execution_count": 115,
   "id": "009d1cbc",
   "metadata": {},
   "outputs": [],
   "source": [
    "height_file=\"/seq/vgb/vsohrab/darwins_dogs/pnas_behavior_morphology_gwas/input_files/DarwinsArk_AgeComposed_Height_N-3277.tsv\"\n",
    "neuter_file=\"/seq/vgb/vsohrab/darwins_dogs/pnas_behavior_morphology_gwas/input_files/DarwinsArk_Sex_NeuterStatus_N-3277.tsv\"\n",
    "pheno_file=\"/seq/vgb/bryc/data/darwins_dogs/2024-09-23_cache/2024-10-15_merged_phenotype_table.csv\"\n",
    "geno_file=\"/seq/vgb/bryc/data/darwins_dogs/pnas_dog_behavior_paper/target_sites_genotypes.csv\""
   ]
  },
  {
   "cell_type": "code",
   "execution_count": 116,
   "id": "024c00ae",
   "metadata": {},
   "outputs": [
    {
     "name": "stderr",
     "output_type": "stream",
     "text": [
      "/local/scratch/47595385.1.interactive/ipykernel_31201/975500096.py:1: DtypeWarning: Columns (15,259,260) have mixed types. Specify dtype option on import or set low_memory=False.\n",
      "  ph = pd.read_csv(pheno_file)\n"
     ]
    }
   ],
   "source": [
    "ph = pd.read_csv(pheno_file)\n",
    "genos = pd.read_csv(geno_file)\n",
    "height = pd.read_csv(height_file, sep = \"\\t\",header=None, names = [\"fam_id\", \"dog\", \"age\", \"height\"])\n",
    "neuter = pd.read_csv(neuter_file, sep = \"\\t\", header=None, names = [\"fam_id\", \"dog\", \"sex\", \"neuter\"])"
   ]
  },
  {
   "cell_type": "code",
   "execution_count": 160,
   "id": "99a046e8",
   "metadata": {},
   "outputs": [],
   "source": [
    "PUREBRED_CUTOFF = 0.85\n",
    "breeds = ph.columns[19:131]"
   ]
  },
  {
   "cell_type": "code",
   "execution_count": 118,
   "id": "56e6a748",
   "metadata": {},
   "outputs": [],
   "source": [
    "purebred_dogs = ph.id[ph.purebred == \"yes\"].to_list()\n",
    "for breed in breeds:\n",
    "    purebreds_breed = ph.id[ph[breed] > PUREBRED_CUTOFF].to_list()\n",
    "    if len(purebreds_breed) > 0:\n",
    "        purebred_dogs.extend(purebreds_breed)"
   ]
  },
  {
   "cell_type": "code",
   "execution_count": 119,
   "id": "cd4f77ff",
   "metadata": {},
   "outputs": [],
   "source": [
    "purebred_to_breed = {each_dog : ph.breed1[ph.id == each_dog].values[0] for each_dog in purebred_dogs}"
   ]
  },
  {
   "cell_type": "code",
   "execution_count": 121,
   "id": "36b26838",
   "metadata": {},
   "outputs": [],
   "source": [
    "majority_ancestry = {}\n",
    "for dog in purebred_dogs:\n",
    "    for breed in breeds:\n",
    "        if ph[ph.id == dog][breed].values[0] > 0.85:\n",
    "            majority_ancestry[dog] = breed"
   ]
  },
  {
   "cell_type": "code",
   "execution_count": 122,
   "id": "ca95f0c4",
   "metadata": {},
   "outputs": [],
   "source": [
    "ph[\"majority_ancestry\"] = ph.id.map(majority_ancestry)\n",
    "ph[\"self-report breed\"] = ph.id.map(purebred_to_breed)"
   ]
  },
  {
   "cell_type": "code",
   "execution_count": 123,
   "id": "248f32f4",
   "metadata": {},
   "outputs": [],
   "source": [
    "ph[\"purebred_breed\"] = ph[\"self-report breed\"]\n",
    "ph[\"purebred_breed\"] = ph[\"purebred_breed\"].fillna(ph['majority_ancestry'])\n",
    "\n",
    "purebred_counts = ph[\"purebred_breed\"].value_counts()\n",
    "purebred_counts.to_csv(\"/seq/vgb/bryc/data/darwins_dogs/pnas_dog_behavior_paper/results/purebred_breed_counts_filled.csv\")"
   ]
  },
  {
   "cell_type": "code",
   "execution_count": 124,
   "id": "e0eb1114",
   "metadata": {},
   "outputs": [],
   "source": [
    "fst_breeds = purebred_counts[purebred_counts > 20].index.to_list()"
   ]
  },
  {
   "cell_type": "code",
   "execution_count": 171,
   "id": "6ad0c212",
   "metadata": {},
   "outputs": [],
   "source": [
    "fst_df = ph[ph.purebred_breed.isin(fst_breeds)][['id', 'purebred_breed']].copy()\n",
    "fst_df.shape\n",
    "\n",
    "purebred_df = pd.merge(fst_df, genos, left_on = \"id\", right_on = \"dog\")"
   ]
  },
  {
   "cell_type": "code",
   "execution_count": 138,
   "id": "add68658",
   "metadata": {},
   "outputs": [],
   "source": [
    "subpops = []\n",
    "for breed in fst_breeds:\n",
    "    list_of_indexes = np.where(purebred_df.purebred_breed == breed)[0].tolist()\n",
    "    subpops.append(list_of_indexes)"
   ]
  },
  {
   "cell_type": "code",
   "execution_count": 140,
   "id": "15e03e9f",
   "metadata": {},
   "outputs": [],
   "source": [
    "diploid_map = {0: [0,0], 1: [0,1], 2: [1,1], np.nan: [-1,-1]}\n",
    "calls =  purebred_df.iloc[:, 3:].astype(int)\n",
    "g = calls.values.tolist()\n",
    "list_of_genos = []\n",
    "for dog in g:\n",
    "    dog_genos = []\n",
    "    for genotype in dog:\n",
    "        dog_genos.append(diploid_map[genotype])\n",
    "    list_of_genos.append(dog_genos)"
   ]
  },
  {
   "cell_type": "code",
   "execution_count": 158,
   "id": "0e52f7ff",
   "metadata": {},
   "outputs": [],
   "source": [
    "geno_df = pd.DataFrame(list_of_genos)\n",
    "g = geno_df.transpose().values.tolist()"
   ]
  },
  {
   "cell_type": "code",
   "execution_count": 190,
   "id": "2f7e8099",
   "metadata": {},
   "outputs": [],
   "source": [
    "a, b, c = allel.weir_cockerham_fst(g, subpops)\n",
    "fst = (np.sum(a, axis=1) / (np.sum(a, axis=1) + np.sum(b, axis=1) + np.sum(c, axis=1)))"
   ]
  },
  {
   "cell_type": "code",
   "execution_count": 191,
   "id": "6c8e74f9",
   "metadata": {},
   "outputs": [],
   "source": [
    "fst_df = pd.DataFrame(zip(purebred_df.columns[3:], fst), columns = [\"Candidate SNP\", \"Fst\"])\n",
    "candidate_snps = pd.read_csv(\"/seq/vgb/bryc/projects/dog_behavioral_gwas_paper/data/candidate_SNPs.csv\",header=None)\n",
    "fst_df = fst_df[fst_df[\"Candidate SNP\"].isin(candidate_snps[0])]"
   ]
  },
  {
   "cell_type": "code",
   "execution_count": 192,
   "id": "030d1c17",
   "metadata": {},
   "outputs": [],
   "source": [
    "fst_df.to_csv(\"/seq/vgb/bryc/data/darwins_dogs/pnas_dog_behavior_paper/results/candidate_snp_fst.csv\", index=False)"
   ]
  },
  {
   "cell_type": "code",
   "execution_count": 193,
   "id": "a3b4da84",
   "metadata": {},
   "outputs": [
    {
     "data": {
      "text/plain": [
       "np.float64(0.13083248029416789)"
      ]
     },
     "execution_count": 193,
     "metadata": {},
     "output_type": "execute_result"
    }
   ],
   "source": [
    "fst_df.Fst.mean()"
   ]
  },
  {
   "cell_type": "code",
   "execution_count": 199,
   "id": "e286858f",
   "metadata": {},
   "outputs": [
    {
     "data": {
      "text/plain": [
       "<Axes: >"
      ]
     },
     "execution_count": 199,
     "metadata": {},
     "output_type": "execute_result"
    },
    {
     "data": {
      "image/png": "[encoded data removed]",
      "text/plain": [
       "<Figure size 640x480 with 1 Axes>"
      ]
     },
     "metadata": {},
     "output_type": "display_data"
    }
   ],
   "source": [
    "fst_df.Fst.hist(bins = 100)"
   ]
  },
  {
   "cell_type": "code",
   "execution_count": 202,
   "id": "086793c1",
   "metadata": {},
   "outputs": [
    {
     "data": {
      "text/plain": [
       "22"
      ]
     },
     "execution_count": 202,
     "metadata": {},
     "output_type": "execute_result"
    }
   ],
   "source": [
    "sum(fst_df.Fst > 0.15)"
   ]
  },
  {
   "cell_type": "code",
   "execution_count": 203,
   "id": "df9e2ae6",
   "metadata": {},
   "outputs": [
    {
     "data": {
      "text/plain": [
       "7"
      ]
     },
     "execution_count": 203,
     "metadata": {},
     "output_type": "execute_result"
    }
   ],
   "source": [
    "sum(fst_df.Fst > 0.25)"
   ]
  }
 ],
 "metadata": {
  "kernelspec": {
   "display_name": "allel_env",
   "language": "python",
   "name": "allel_env"
  },
  "language_info": {
   "codemirror_mode": {
    "name": "ipython",
    "version": 3
   },
   "file_extension": ".py",
   "mimetype": "text/x-python",
   "name": "python",
   "nbconvert_exporter": "python",
   "pygments_lexer": "ipython3",
   "version": "3.12.8"
  }
 },
 "nbformat": 4,
 "nbformat_minor": 5
}
